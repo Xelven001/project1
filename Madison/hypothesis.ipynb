{
 "cells": [
  {
   "cell_type": "code",
   "execution_count": 1,
   "metadata": {},
   "outputs": [],
   "source": [
    "from pathlib import Path\n",
    "import pandas as pd\n",
    "import scipy.stats as stats"
   ]
  },
  {
   "cell_type": "code",
   "execution_count": 2,
   "metadata": {},
   "outputs": [
    {
     "data": {
      "text/html": [
       "<div>\n",
       "<style scoped>\n",
       "    .dataframe tbody tr th:only-of-type {\n",
       "        vertical-align: middle;\n",
       "    }\n",
       "\n",
       "    .dataframe tbody tr th {\n",
       "        vertical-align: top;\n",
       "    }\n",
       "\n",
       "    .dataframe thead th {\n",
       "        text-align: right;\n",
       "    }\n",
       "</style>\n",
       "<table border=\"1\" class=\"dataframe\">\n",
       "  <thead>\n",
       "    <tr style=\"text-align: right;\">\n",
       "      <th></th>\n",
       "      <th>Unnamed: 0</th>\n",
       "      <th>Year</th>\n",
       "      <th>State</th>\n",
       "      <th>Region</th>\n",
       "      <th>County</th>\n",
       "      <th>Median Income</th>\n",
       "      <th>Median Housing Price</th>\n",
       "    </tr>\n",
       "  </thead>\n",
       "  <tbody>\n",
       "    <tr>\n",
       "      <th>0</th>\n",
       "      <td>0</td>\n",
       "      <td>2018</td>\n",
       "      <td>California</td>\n",
       "      <td>NorCal</td>\n",
       "      <td>Lake County</td>\n",
       "      <td>48554</td>\n",
       "      <td>269408.333333</td>\n",
       "    </tr>\n",
       "    <tr>\n",
       "      <th>1</th>\n",
       "      <td>1</td>\n",
       "      <td>2018</td>\n",
       "      <td>California</td>\n",
       "      <td>NorCal</td>\n",
       "      <td>Merced County</td>\n",
       "      <td>57745</td>\n",
       "      <td>268086.666667</td>\n",
       "    </tr>\n",
       "    <tr>\n",
       "      <th>2</th>\n",
       "      <td>2</td>\n",
       "      <td>2018</td>\n",
       "      <td>California</td>\n",
       "      <td>NorCal</td>\n",
       "      <td>Stanislaus County</td>\n",
       "      <td>60321</td>\n",
       "      <td>312658.333333</td>\n",
       "    </tr>\n",
       "    <tr>\n",
       "      <th>3</th>\n",
       "      <td>4</td>\n",
       "      <td>2018</td>\n",
       "      <td>California</td>\n",
       "      <td>NorCal</td>\n",
       "      <td>Sacramento County</td>\n",
       "      <td>69767</td>\n",
       "      <td>365454.166667</td>\n",
       "    </tr>\n",
       "    <tr>\n",
       "      <th>4</th>\n",
       "      <td>5</td>\n",
       "      <td>2018</td>\n",
       "      <td>California</td>\n",
       "      <td>NorCal</td>\n",
       "      <td>El Dorado County</td>\n",
       "      <td>82742</td>\n",
       "      <td>491687.416667</td>\n",
       "    </tr>\n",
       "  </tbody>\n",
       "</table>\n",
       "</div>"
      ],
      "text/plain": [
       "   Unnamed: 0  Year       State  Region             County  Median Income  \\\n",
       "0           0  2018  California  NorCal        Lake County          48554   \n",
       "1           1  2018  California  NorCal      Merced County          57745   \n",
       "2           2  2018  California  NorCal  Stanislaus County          60321   \n",
       "3           4  2018  California  NorCal  Sacramento County          69767   \n",
       "4           5  2018  California  NorCal   El Dorado County          82742   \n",
       "\n",
       "   Median Housing Price  \n",
       "0         269408.333333  \n",
       "1         268086.666667  \n",
       "2         312658.333333  \n",
       "3         365454.166667  \n",
       "4         491687.416667  "
      ]
     },
     "execution_count": 2,
     "metadata": {},
     "output_type": "execute_result"
    }
   ],
   "source": [
    "#Create a File Path - NorCal\n",
    "data_set = Path(\"../Madison/Resources/NorCal.csv\")\n",
    "\n",
    "# Read in the data. \n",
    "norcal_df = pd.read_csv(data_set)\n",
    "norcal_df.head()"
   ]
  },
  {
   "cell_type": "code",
   "execution_count": 3,
   "metadata": {},
   "outputs": [
    {
     "data": {
      "text/html": [
       "<div>\n",
       "<style scoped>\n",
       "    .dataframe tbody tr th:only-of-type {\n",
       "        vertical-align: middle;\n",
       "    }\n",
       "\n",
       "    .dataframe tbody tr th {\n",
       "        vertical-align: top;\n",
       "    }\n",
       "\n",
       "    .dataframe thead th {\n",
       "        text-align: right;\n",
       "    }\n",
       "</style>\n",
       "<table border=\"1\" class=\"dataframe\">\n",
       "  <thead>\n",
       "    <tr style=\"text-align: right;\">\n",
       "      <th></th>\n",
       "      <th>Year</th>\n",
       "      <th>State</th>\n",
       "      <th>Region</th>\n",
       "      <th>County</th>\n",
       "      <th>Median Income</th>\n",
       "      <th>Median Housing Price</th>\n",
       "    </tr>\n",
       "  </thead>\n",
       "  <tbody>\n",
       "    <tr>\n",
       "      <th>0</th>\n",
       "      <td>2018</td>\n",
       "      <td>California</td>\n",
       "      <td>SoCal</td>\n",
       "      <td>Santa Barbara County</td>\n",
       "      <td>77472</td>\n",
       "      <td>662729.166667</td>\n",
       "    </tr>\n",
       "    <tr>\n",
       "      <th>1</th>\n",
       "      <td>2018</td>\n",
       "      <td>California</td>\n",
       "      <td>SoCal</td>\n",
       "      <td>San Diego County</td>\n",
       "      <td>79079</td>\n",
       "      <td>631283.333333</td>\n",
       "    </tr>\n",
       "    <tr>\n",
       "      <th>2</th>\n",
       "      <td>2018</td>\n",
       "      <td>California</td>\n",
       "      <td>SoCal</td>\n",
       "      <td>Riverside County</td>\n",
       "      <td>66964</td>\n",
       "      <td>401593.333333</td>\n",
       "    </tr>\n",
       "    <tr>\n",
       "      <th>3</th>\n",
       "      <td>2018</td>\n",
       "      <td>California</td>\n",
       "      <td>SoCal</td>\n",
       "      <td>San Bernardino County</td>\n",
       "      <td>63857</td>\n",
       "      <td>289050.000000</td>\n",
       "    </tr>\n",
       "    <tr>\n",
       "      <th>4</th>\n",
       "      <td>2018</td>\n",
       "      <td>California</td>\n",
       "      <td>SoCal</td>\n",
       "      <td>San Luis Obispo County</td>\n",
       "      <td>71148</td>\n",
       "      <td>616472.083333</td>\n",
       "    </tr>\n",
       "  </tbody>\n",
       "</table>\n",
       "</div>"
      ],
      "text/plain": [
       "   Year       State Region                  County  Median Income  \\\n",
       "0  2018  California  SoCal    Santa Barbara County          77472   \n",
       "1  2018  California  SoCal        San Diego County          79079   \n",
       "2  2018  California  SoCal        Riverside County          66964   \n",
       "3  2018  California  SoCal   San Bernardino County          63857   \n",
       "4  2018  California  SoCal  San Luis Obispo County          71148   \n",
       "\n",
       "   Median Housing Price  \n",
       "0         662729.166667  \n",
       "1         631283.333333  \n",
       "2         401593.333333  \n",
       "3         289050.000000  \n",
       "4         616472.083333  "
      ]
     },
     "execution_count": 3,
     "metadata": {},
     "output_type": "execute_result"
    }
   ],
   "source": [
    "#Create a File Path - SoCal\n",
    "data_set2 = Path(\"../Madison/Resources/SoCal.csv\")\n",
    "\n",
    "# Read in the data. \n",
    "socal_df = pd.read_csv(data_set2)\n",
    "socal_df.head()\n"
   ]
  },
  {
   "cell_type": "code",
   "execution_count": 4,
   "metadata": {},
   "outputs": [
    {
     "data": {
      "text/plain": [
       "648517.0915977962"
      ]
     },
     "execution_count": 4,
     "metadata": {},
     "output_type": "execute_result"
    }
   ],
   "source": [
    "# Calculate the housing price mean for counties in NorCal\n",
    "population1 = norcal_df\n",
    "population1['Median Housing Price'].mean()"
   ]
  },
  {
   "cell_type": "code",
   "execution_count": 5,
   "metadata": {},
   "outputs": [
    {
     "data": {
      "text/plain": [
       "658633.3912037037"
      ]
     },
     "execution_count": 5,
     "metadata": {},
     "output_type": "execute_result"
    }
   ],
   "source": [
    "# Calculate the housing price mean for counties in SoCal\n",
    "population2 = socal_df\n",
    "population2['Median Housing Price'].mean()\n",
    "\n"
   ]
  },
  {
   "cell_type": "code",
   "execution_count": 6,
   "metadata": {},
   "outputs": [
    {
     "data": {
      "text/plain": [
       "TtestResult(statistic=-0.17474822959191583, pvalue=0.8616070751962959, df=107.20291780836581)"
      ]
     },
     "execution_count": 6,
     "metadata": {},
     "output_type": "execute_result"
    }
   ],
   "source": [
    "# Calculate Independent (Two Sample) t-test\n",
    "stats.ttest_ind(population1['Median Housing Price'], population2['Median Housing Price'], equal_var=False)"
   ]
  },
  {
   "cell_type": "markdown",
   "metadata": {},
   "source": [
    "### The p-value is greater than 0.05 which shows us that there is no significant statistical difference between NorCal and SoCal housing prices. "
   ]
  },
  {
   "cell_type": "code",
   "execution_count": 7,
   "metadata": {},
   "outputs": [
    {
     "data": {
      "text/plain": [
       "80676.0826446281"
      ]
     },
     "execution_count": 7,
     "metadata": {},
     "output_type": "execute_result"
    }
   ],
   "source": [
    "# Income \n",
    "## Calculate the median income mean for counties in NorCal\n",
    "population3 = norcal_df\n",
    "population3['Median Income'].mean()"
   ]
  },
  {
   "cell_type": "code",
   "execution_count": 8,
   "metadata": {},
   "outputs": [
    {
     "data": {
      "text/plain": [
       "80306.72222222222"
      ]
     },
     "execution_count": 8,
     "metadata": {},
     "output_type": "execute_result"
    }
   ],
   "source": [
    "# Income \n",
    "## Calculate the median income mean for counties in SoCal\n",
    "population4 = socal_df\n",
    "population4['Median Income'].mean()"
   ]
  },
  {
   "cell_type": "code",
   "execution_count": 9,
   "metadata": {},
   "outputs": [
    {
     "data": {
      "text/plain": [
       "TtestResult(statistic=0.11410950114570045, pvalue=0.9093539370630095, df=112.75090061775074)"
      ]
     },
     "execution_count": 9,
     "metadata": {},
     "output_type": "execute_result"
    }
   ],
   "source": [
    "# Calculate Independent (Two Sample) t-test\n",
    "stats.ttest_ind(population3['Median Income'], population4['Median Income'], equal_var=False)"
   ]
  },
  {
   "cell_type": "markdown",
   "metadata": {},
   "source": [
    "### The p-value is greater than 0.05 which shows us that there is no significant statistical difference between NorCal and SoCal median income. \n",
    "\n"
   ]
  }
 ],
 "metadata": {
  "kernelspec": {
   "display_name": "base",
   "language": "python",
   "name": "python3"
  },
  "language_info": {
   "codemirror_mode": {
    "name": "ipython",
    "version": 3
   },
   "file_extension": ".py",
   "mimetype": "text/x-python",
   "name": "python",
   "nbconvert_exporter": "python",
   "pygments_lexer": "ipython3",
   "version": "3.11.5"
  },
  "orig_nbformat": 4
 },
 "nbformat": 4,
 "nbformat_minor": 2
}
